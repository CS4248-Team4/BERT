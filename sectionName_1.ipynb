{
 "cells": [
  {
   "cell_type": "code",
   "execution_count": 7,
   "metadata": {},
   "outputs": [
    {
     "name": "stdout",
     "output_type": "stream",
     "text": [
      "Looking in indexes: https://pypi.tuna.tsinghua.edu.cn/simple\n",
      "Collecting transformers\n",
      "  Downloading https://pypi.tuna.tsinghua.edu.cn/packages/15/fc/7b6dd7e1adc0a6407b845ed4be1999e98b6917d0694e57316d140cc85484/transformers-4.39.3-py3-none-any.whl (8.8 MB)\n",
      "\u001b[2K     \u001b[90m━━━━━━━━━━━━━━━━━━━━━━━━━━━━━━━━━━━━━━━━\u001b[0m \u001b[32m8.8/8.8 MB\u001b[0m \u001b[31m183.8 MB/s\u001b[0m eta \u001b[36m0:00:00\u001b[0ma \u001b[36m0:00:01\u001b[0m\n",
      "\u001b[?25hRequirement already satisfied: filelock in /environment/miniconda3/lib/python3.10/site-packages (from transformers) (3.9.0)\n",
      "Collecting huggingface-hub<1.0,>=0.19.3 (from transformers)\n",
      "  Downloading https://pypi.tuna.tsinghua.edu.cn/packages/05/c0/779afbad8e75565c09ffa24a88b5dd7e293c92b74eb09df6435fc58ac986/huggingface_hub-0.22.2-py3-none-any.whl (388 kB)\n",
      "\u001b[2K     \u001b[90m━━━━━━━━━━━━━━━━━━━━━━━━━━━━━━━━━━━━━\u001b[0m \u001b[32m388.9/388.9 kB\u001b[0m \u001b[31m227.6 MB/s\u001b[0m eta \u001b[36m0:00:00\u001b[0m\n",
      "\u001b[?25hRequirement already satisfied: numpy>=1.17 in /environment/miniconda3/lib/python3.10/site-packages (from transformers) (1.24.1)\n",
      "Requirement already satisfied: packaging>=20.0 in /environment/miniconda3/lib/python3.10/site-packages (from transformers) (23.0)\n",
      "Requirement already satisfied: pyyaml>=5.1 in /environment/miniconda3/lib/python3.10/site-packages (from transformers) (6.0.1)\n",
      "Collecting regex!=2019.12.17 (from transformers)\n",
      "  Downloading https://pypi.tuna.tsinghua.edu.cn/packages/81/8a/96a62ce98e8ff1b16db56fde3debc8a571f6b7ea42ee137eb0d995cdfa26/regex-2023.12.25-cp310-cp310-manylinux_2_17_x86_64.manylinux2014_x86_64.whl (773 kB)\n",
      "\u001b[2K     \u001b[90m━━━━━━━━━━━━━━━━━━━━━━━━━━━━━━━━━━━━━\u001b[0m \u001b[32m774.0/774.0 kB\u001b[0m \u001b[31m233.4 MB/s\u001b[0m eta \u001b[36m0:00:00\u001b[0m\n",
      "\u001b[?25hRequirement already satisfied: requests in /environment/miniconda3/lib/python3.10/site-packages (from transformers) (2.31.0)\n",
      "Collecting tokenizers<0.19,>=0.14 (from transformers)\n",
      "  Downloading https://pypi.tuna.tsinghua.edu.cn/packages/1c/5d/cf5e122ce4f1a29f165b2a69dc33d1ff30bce303343d58a54775ddba5d51/tokenizers-0.15.2-cp310-cp310-manylinux_2_17_x86_64.manylinux2014_x86_64.whl (3.6 MB)\n",
      "\u001b[2K     \u001b[90m━━━━━━━━━━━━━━━━━━━━━━━━━━━━━━━━━━━━━━━━\u001b[0m \u001b[32m3.6/3.6 MB\u001b[0m \u001b[31m255.8 MB/s\u001b[0m eta \u001b[36m0:00:00\u001b[0m\n",
      "\u001b[?25hCollecting safetensors>=0.4.1 (from transformers)\n",
      "  Downloading https://pypi.tuna.tsinghua.edu.cn/packages/d0/ba/b2254fafc7f5fdc98a2fa4d5a5eeb029fbf9589ec87f2c230c3ac0a1dd53/safetensors-0.4.2-cp310-cp310-manylinux_2_17_x86_64.manylinux2014_x86_64.whl (1.3 MB)\n",
      "\u001b[2K     \u001b[90m━━━━━━━━━━━━━━━━━━━━━━━━━━━━━━━━━━━━━━━━\u001b[0m \u001b[32m1.3/1.3 MB\u001b[0m \u001b[31m259.6 MB/s\u001b[0m eta \u001b[36m0:00:00\u001b[0m\n",
      "\u001b[?25hRequirement already satisfied: tqdm>=4.27 in /environment/miniconda3/lib/python3.10/site-packages (from transformers) (4.65.0)\n",
      "Collecting fsspec>=2023.5.0 (from huggingface-hub<1.0,>=0.19.3->transformers)\n",
      "  Downloading https://pypi.tuna.tsinghua.edu.cn/packages/93/6d/66d48b03460768f523da62a57a7e14e5e95fdf339d79e996ce3cecda2cdb/fsspec-2024.3.1-py3-none-any.whl (171 kB)\n",
      "\u001b[2K     \u001b[90m━━━━━━━━━━━━━━━━━━━━━━━━━━━━━━━━━━━━━\u001b[0m \u001b[32m172.0/172.0 kB\u001b[0m \u001b[31m208.0 MB/s\u001b[0m eta \u001b[36m0:00:00\u001b[0m\n",
      "\u001b[?25hRequirement already satisfied: typing-extensions>=3.7.4.3 in /environment/miniconda3/lib/python3.10/site-packages (from huggingface-hub<1.0,>=0.19.3->transformers) (4.8.0)\n",
      "Requirement already satisfied: charset-normalizer<4,>=2 in /environment/miniconda3/lib/python3.10/site-packages (from requests->transformers) (2.0.4)\n",
      "Requirement already satisfied: idna<4,>=2.5 in /environment/miniconda3/lib/python3.10/site-packages (from requests->transformers) (2.10)\n",
      "Requirement already satisfied: urllib3<3,>=1.21.1 in /environment/miniconda3/lib/python3.10/site-packages (from requests->transformers) (1.25.11)\n",
      "Requirement already satisfied: certifi>=2017.4.17 in /environment/miniconda3/lib/python3.10/site-packages (from requests->transformers) (2023.7.22)\n",
      "Installing collected packages: safetensors, regex, fsspec, huggingface-hub, tokenizers, transformers\n",
      "Successfully installed fsspec-2024.3.1 huggingface-hub-0.22.2 regex-2023.12.25 safetensors-0.4.2 tokenizers-0.15.2 transformers-4.39.3\n",
      "Looking in indexes: https://pypi.tuna.tsinghua.edu.cn/simple\n",
      "Requirement already satisfied: tokenizers in /environment/miniconda3/lib/python3.10/site-packages (0.15.2)\n",
      "Requirement already satisfied: huggingface_hub<1.0,>=0.16.4 in /environment/miniconda3/lib/python3.10/site-packages (from tokenizers) (0.22.2)\n",
      "Requirement already satisfied: filelock in /environment/miniconda3/lib/python3.10/site-packages (from huggingface_hub<1.0,>=0.16.4->tokenizers) (3.9.0)\n",
      "Requirement already satisfied: fsspec>=2023.5.0 in /environment/miniconda3/lib/python3.10/site-packages (from huggingface_hub<1.0,>=0.16.4->tokenizers) (2024.3.1)\n",
      "Requirement already satisfied: packaging>=20.9 in /environment/miniconda3/lib/python3.10/site-packages (from huggingface_hub<1.0,>=0.16.4->tokenizers) (23.0)\n",
      "Requirement already satisfied: pyyaml>=5.1 in /environment/miniconda3/lib/python3.10/site-packages (from huggingface_hub<1.0,>=0.16.4->tokenizers) (6.0.1)\n",
      "Requirement already satisfied: requests in /environment/miniconda3/lib/python3.10/site-packages (from huggingface_hub<1.0,>=0.16.4->tokenizers) (2.31.0)\n",
      "Requirement already satisfied: tqdm>=4.42.1 in /environment/miniconda3/lib/python3.10/site-packages (from huggingface_hub<1.0,>=0.16.4->tokenizers) (4.65.0)\n",
      "Requirement already satisfied: typing-extensions>=3.7.4.3 in /environment/miniconda3/lib/python3.10/site-packages (from huggingface_hub<1.0,>=0.16.4->tokenizers) (4.8.0)\n",
      "Requirement already satisfied: charset-normalizer<4,>=2 in /environment/miniconda3/lib/python3.10/site-packages (from requests->huggingface_hub<1.0,>=0.16.4->tokenizers) (2.0.4)\n",
      "Requirement already satisfied: idna<4,>=2.5 in /environment/miniconda3/lib/python3.10/site-packages (from requests->huggingface_hub<1.0,>=0.16.4->tokenizers) (2.10)\n",
      "Requirement already satisfied: urllib3<3,>=1.21.1 in /environment/miniconda3/lib/python3.10/site-packages (from requests->huggingface_hub<1.0,>=0.16.4->tokenizers) (1.25.11)\n",
      "Requirement already satisfied: certifi>=2017.4.17 in /environment/miniconda3/lib/python3.10/site-packages (from requests->huggingface_hub<1.0,>=0.16.4->tokenizers) (2023.7.22)\n"
     ]
    }
   ],
   "source": [
    "!pip install transformers\n",
    "!pip install tokenizers"
   ]
  },
  {
   "cell_type": "code",
   "execution_count": 180,
   "metadata": {
    "id": "tyNaVOWCcUO1"
   },
   "outputs": [],
   "source": [
    "import json\n",
    "import pandas as pd\n",
    "with open('./train.jsonl', 'r') as f:\n",
    "    train_data = [json.loads(line) for line in f]\n",
    "Df_train = pd.DataFrame(train_data)\n",
    "\n",
    "with open('./test.jsonl', 'r') as f:\n",
    "    test_data = [json.loads(line) for line in f]\n",
    "Df_test = pd.DataFrame(test_data)"
   ]
  },
  {
   "cell_type": "markdown",
   "metadata": {
    "id": "UcfaNjRtiZux"
   },
   "source": [
    "Here I just keep columns with keys 'string' and 'label'\n"
   ]
  },
  {
   "cell_type": "code",
   "execution_count": 181,
   "metadata": {
    "colab": {
     "base_uri": "https://localhost:8080/"
    },
    "id": "GL6lH0eLg_cs",
    "outputId": "8b7c9564-b6cb-4093-a8a5-05423c0e2dae"
   },
   "outputs": [
    {
     "name": "stdout",
     "output_type": "stream",
     "text": [
      "                                              string  \\\n",
      "0  However, how frataxin interacts with the Fe-S ...   \n",
      "1  In the study by Hickey et al. (2012), spikes w...   \n",
      "2  The drug also reduces catecholamine secretion,...   \n",
      "3  By clustering with lowly aggressive close kin ...   \n",
      "4  Ophthalmic symptoms are rare manifestations of...   \n",
      "\n",
      "                                         sectionName       label  \n",
      "0                                       Introduction  background  \n",
      "1  Novel Quantitative Trait Loci for Seminal Root...  background  \n",
      "2                                       Introduction  background  \n",
      "3                                         Discussion  background  \n",
      "4                                         Discussion  background  \n",
      "   citeStart  citeEnd\n",
      "0      168.0    175.0\n",
      "1       16.0     36.0\n",
      "2      225.0    228.0\n",
      "3       46.0    110.0\n",
      "4      234.0    239.0\n",
      "\n",
      "train\n",
      " string         8243\n",
      "sectionName    8224\n",
      "label          8243\n",
      "dtype: int64\n",
      "\n",
      "test\n",
      " string         1861\n",
      "sectionName    1851\n",
      "label          1861\n",
      "dtype: int64\n"
     ]
    }
   ],
   "source": [
    "df_train = Df_train[['string', 'sectionName', 'label']]\n",
    "df_test = Df_test[['string', 'sectionName', 'label']]\n",
    "print(df_train.head())\n",
    "print(se.head())\n",
    "print('\\ntrain\\n',df_train.count())\n",
    "print('\\ntest\\n',df_test.count())"
   ]
  },
  {
   "cell_type": "code",
   "execution_count": 182,
   "metadata": {},
   "outputs": [
    {
     "name": "stdout",
     "output_type": "stream",
     "text": [
      "807\n"
     ]
    },
    {
     "data": {
      "text/plain": [
       "17"
      ]
     },
     "execution_count": 182,
     "metadata": {},
     "output_type": "execute_result"
    }
   ],
   "source": [
    "value_counts = df_train['sectionName'].value_counts()\n",
    "print(len(value_counts[value_counts == 1]))\n",
    "len(value_counts[value_counts >= 50])"
   ]
  },
  {
   "cell_type": "markdown",
   "metadata": {},
   "source": [
    "As we can see, many rows are NULL in sectionName. I plan to give them default values. Also, as the values are not standard, I will retain the value with high frequency and replace those with low frequency with default values."
   ]
  },
  {
   "cell_type": "code",
   "execution_count": 183,
   "metadata": {},
   "outputs": [],
   "source": [
    "def generate_sectionname_mapping(df, threshold=20):\n",
    "    \"\"\"\n",
    "    get the mapping dictionary\n",
    "    \"\"\"\n",
    "    # 找到 'sectionName' 列中每个值的频率\n",
    "    value_counts = df['sectionName'].value_counts()\n",
    "\n",
    "    # 找到频率高于阈值的值\n",
    "    high_frequency_values = value_counts[value_counts > threshold].index.tolist()\n",
    "\n",
    "    # 创建转换字典，用于将高频 'sectionName' 转换为整数编码\n",
    "    mapping = {value: i for i, value in enumerate(high_frequency_values)}\n",
    "\n",
    "    return mapping\n",
    "\n",
    "mapping = generate_sectionname_mapping(df_train)\n",
    "\n",
    "def transform(df_train,mapping):\n",
    "    df_transformed = df_train.copy()\n",
    "    df_transformed['sectionName'] = df_transformed['sectionName'].map(lambda x: mapping.get(x, -1))\n",
    "    return df_transformed\n",
    "    \n",
    "df_train = transform(df_train,mapping)\n",
    "df_test = transform(df_test,mapping)"
   ]
  },
  {
   "cell_type": "code",
   "execution_count": null,
   "metadata": {},
   "outputs": [],
   "source": []
  },
  {
   "cell_type": "code",
   "execution_count": 184,
   "metadata": {
    "colab": {
     "base_uri": "https://localhost:8080/"
    },
    "id": "8dklkiKyiWoK",
    "outputId": "31ff1e6b-79cb-4d83-c53f-1b6f06c23e5f"
   },
   "outputs": [
    {
     "name": "stdout",
     "output_type": "stream",
     "text": [
      "label\n",
      "background    4840\n",
      "method        2294\n",
      "result        1109\n",
      "Name: count, dtype: int64\n",
      "label\n",
      "background    997\n",
      "method        605\n",
      "result        259\n",
      "Name: count, dtype: int64\n",
      "sectionName\n",
      "-1     1930\n",
      " 0     1240\n",
      " 1      834\n",
      " 2      800\n",
      " 3      587\n",
      " 4      483\n",
      " 5      359\n",
      " 6      349\n",
      " 7      296\n",
      " 8      263\n",
      " 9      172\n",
      " 10     162\n",
      " 11     160\n",
      " 12     101\n",
      " 13      87\n",
      " 14      74\n",
      " 15      60\n",
      " 16      54\n",
      " 17      41\n",
      " 18      37\n",
      " 19      35\n",
      " 20      33\n",
      " 21      31\n",
      " 22      30\n",
      " 23      25\n",
      "Name: count, dtype: int64\n",
      "sectionName\n",
      " 0     471\n",
      "-1     358\n",
      " 2     209\n",
      " 4     171\n",
      " 5     149\n",
      " 9      94\n",
      " 7      78\n",
      " 3      66\n",
      " 10     54\n",
      " 1      39\n",
      " 14     28\n",
      " 17     24\n",
      " 6      21\n",
      " 15     20\n",
      " 13     19\n",
      " 20     15\n",
      " 21     12\n",
      " 8      11\n",
      " 11      8\n",
      " 18      7\n",
      " 23      3\n",
      " 12      2\n",
      " 22      1\n",
      " 19      1\n",
      "Name: count, dtype: int64\n"
     ]
    }
   ],
   "source": [
    "print(df_train['label'].value_counts())\n",
    "print(df_test['label'].value_counts())\n",
    "print(df_train['sectionName'].value_counts())\n",
    "print(df_test['sectionName'].value_counts())"
   ]
  },
  {
   "cell_type": "code",
   "execution_count": 185,
   "metadata": {
    "colab": {
     "base_uri": "https://localhost:8080/"
    },
    "id": "GadgwE_MWAaJ",
    "outputId": "5f4829f0-a1b9-4298-ead1-ddb910c854a0"
   },
   "outputs": [
    {
     "name": "stdout",
     "output_type": "stream",
     "text": [
      "label\n",
      "0    4840\n",
      "1    2294\n",
      "2    1109\n",
      "Name: count, dtype: int64\n",
      "label\n",
      "0    997\n",
      "1    605\n",
      "2    259\n",
      "Name: count, dtype: int64\n"
     ]
    }
   ],
   "source": [
    "str_to_vec = {'background':0, 'method':1, 'result':2}\n",
    "\n",
    "df_train['label'] = df_train['label'].map(str_to_vec)\n",
    "df_test['label'] = df_test['label'].map(str_to_vec)\n",
    "print(df_train['label'].value_counts())\n",
    "print(df_test['label'].value_counts())"
   ]
  },
  {
   "cell_type": "code",
   "execution_count": 186,
   "metadata": {
    "id": "x8eHa8fYi8E4"
   },
   "outputs": [],
   "source": [
    "import transformers\n",
    "from transformers import AutoModel,BertTokenizerFast\n",
    "import numpy as np\n",
    "import pandas as pd\n",
    "import torch\n",
    "import torch.nn as nn\n",
    "from sklearn.model_selection import train_test_split\n",
    "from sklearn.metrics import classification_report\n",
    "\n",
    "device = torch.device(\"cuda\")\n",
    "\n",
    "train_text, train_labels = df_train[['string','sectionName']], df_train['label']\n",
    "test_text, val_text, test_labels, val_labels = train_test_split(df_test[['string','sectionName']],df_test['label'],\n",
    "                                    test_size = 0.5,\n",
    "                                    stratify = df_test['label'])"
   ]
  },
  {
   "cell_type": "code",
   "execution_count": 187,
   "metadata": {
    "colab": {
     "base_uri": "https://localhost:8080/",
     "height": 49,
     "referenced_widgets": [
      "96619d543ec74702b754f126e5f9dd31",
      "6f76193086db4380bf92369b9143b4fa",
      "8613b4d5606349e8a5b5371d7b75a140",
      "40f3597504c747f69f99f05016f97f5d",
      "a4c48bdd74cd468782403256374524ff",
      "a0d3efcb9afe4618bae90deea51e62da",
      "b7aa6f8c343c4d33a4d8782e979a2abb",
      "bbb865f77c59461f98a83344600faf21",
      "32997f6d9f474fd39a54c188b85320ee",
      "829a467fafb84c6cb90ec8f330dbe549",
      "72bb1a4ad4f04b92a34728045e1e0c78"
     ]
    },
    "id": "Lu4oH5GrOFE1",
    "outputId": "c08bb108-39de-44a0-a928-1927527ca07c"
   },
   "outputs": [],
   "source": [
    "# import BERT-base pretrained model\n",
    "bert = AutoModel.from_pretrained('bert-base-uncased')\n",
    "\n",
    "# Load the BERT tokenizer\n",
    "tokenizer = BertTokenizerFast.from_pretrained('bert-base-uncased')"
   ]
  },
  {
   "cell_type": "code",
   "execution_count": 188,
   "metadata": {
    "id": "aVMDFLucOiT_"
   },
   "outputs": [],
   "source": [
    "text = [\"This is a test: My dear girlfriend is Wang Shaoyilin\",\"I like play Apex Legends\"]\n",
    "sent_id = tokenizer.batch_encode_plus(text, padding=True,return_token_type_ids=False)"
   ]
  },
  {
   "cell_type": "code",
   "execution_count": 189,
   "metadata": {
    "colab": {
     "base_uri": "https://localhost:8080/"
    },
    "id": "nF2YhMVAPO0x",
    "outputId": "bb9de27e-7de7-459c-9261-a60196f85106"
   },
   "outputs": [
    {
     "name": "stdout",
     "output_type": "stream",
     "text": [
      "{'input_ids': [[101, 2023, 2003, 1037, 3231, 1024, 2026, 6203, 6513, 2003, 7418, 21146, 6977, 18622, 2078, 102], [101, 1045, 2066, 2377, 13450, 9489, 102, 0, 0, 0, 0, 0, 0, 0, 0, 0]], 'attention_mask': [[1, 1, 1, 1, 1, 1, 1, 1, 1, 1, 1, 1, 1, 1, 1, 1], [1, 1, 1, 1, 1, 1, 1, 0, 0, 0, 0, 0, 0, 0, 0, 0]]}\n"
     ]
    }
   ],
   "source": [
    "print(sent_id)"
   ]
  },
  {
   "cell_type": "code",
   "execution_count": 190,
   "metadata": {
    "colab": {
     "base_uri": "https://localhost:8080/",
     "height": 452
    },
    "id": "57QuQVyGQmON",
    "outputId": "a07b934f-e2f9-462c-c54a-948f87944fa5"
   },
   "outputs": [
    {
     "data": {
      "text/plain": [
       "<Axes: >"
      ]
     },
     "execution_count": 190,
     "metadata": {},
     "output_type": "execute_result"
    },
    {
     "data": {
      "image/png": "[encoded data removed]",
      "text/plain": [
       "<Figure size 640x480 with 1 Axes>"
      ]
     },
     "metadata": {},
     "output_type": "display_data"
    }
   ],
   "source": [
    "seq_len = [len(i.split()) for i in train_text]\n",
    "\n",
    "pd.Series(seq_len).hist(bins = 30)"
   ]
  },
  {
   "cell_type": "code",
   "execution_count": 191,
   "metadata": {
    "id": "7hr-2Y71Q7a-"
   },
   "outputs": [],
   "source": [
    "max_seq_len = 75"
   ]
  },
  {
   "cell_type": "code",
   "execution_count": 192,
   "metadata": {},
   "outputs": [],
   "source": [
    "train_sec = train_text['sectionName'].tolist()\n",
    "train_text = train_text['string']\n",
    "val_sec = val_text['sectionName'].tolist()\n",
    "val_text = val_text['string']\n",
    "test_sec = test_text['sectionName'].tolist()\n",
    "test_text = test_text['string']"
   ]
  },
  {
   "cell_type": "code",
   "execution_count": 193,
   "metadata": {
    "colab": {
     "base_uri": "https://localhost:8080/"
    },
    "id": "vDfcuS3ERgTT",
    "outputId": "8fc659f7-be46-40fd-896f-33511b198514"
   },
   "outputs": [],
   "source": [
    "# tokenize and encode sequences in the training set\n",
    "tokens_train = tokenizer.batch_encode_plus(\n",
    "    train_text.tolist(),\n",
    "    max_length = max_seq_len,\n",
    "    padding='max_length',\n",
    "    truncation=True,\n",
    "    return_token_type_ids=False\n",
    ")\n",
    "\n",
    "# tokenize and encode sequences in the validation set\n",
    "tokens_val = tokenizer.batch_encode_plus(\n",
    "    val_text.tolist(),\n",
    "    max_length = max_seq_len,\n",
    "    padding='max_length',\n",
    "    truncation=True,\n",
    "    return_token_type_ids=False\n",
    ")\n",
    "\n",
    "# tokenize and encode sequences in the test set\n",
    "tokens_test = tokenizer.batch_encode_plus(\n",
    "    test_text.tolist(),\n",
    "    max_length = max_seq_len,\n",
    "    padding='max_length',\n",
    "    truncation=True,\n",
    "    return_token_type_ids=False\n",
    ")"
   ]
  },
  {
   "cell_type": "code",
   "execution_count": null,
   "metadata": {},
   "outputs": [],
   "source": []
  },
  {
   "cell_type": "code",
   "execution_count": 194,
   "metadata": {
    "id": "TS5pzWQzSKZR"
   },
   "outputs": [],
   "source": [
    "# for train set\n",
    "train_seq = torch.tensor(tokens_train['input_ids'])\n",
    "train_mask = torch.tensor(tokens_train['attention_mask'])\n",
    "train_sec = torch.tensor(train_sec)\n",
    "train_y = torch.tensor(train_labels.tolist())\n",
    "\n",
    "# for validation set\n",
    "val_seq = torch.tensor(tokens_val['input_ids'])\n",
    "val_mask = torch.tensor(tokens_val['attention_mask'])\n",
    "val_sec = torch.tensor(val_sec)\n",
    "val_y = torch.tensor(val_labels.tolist())\n",
    "\n",
    "# for test set\n",
    "test_seq = torch.tensor(tokens_test['input_ids'])\n",
    "test_mask = torch.tensor(tokens_test['attention_mask'])\n",
    "test_sec = torch.tensor(test_sec)\n",
    "test_y = torch.tensor(test_labels.tolist())"
   ]
  },
  {
   "cell_type": "code",
   "execution_count": null,
   "metadata": {},
   "outputs": [],
   "source": []
  },
  {
   "cell_type": "code",
   "execution_count": 195,
   "metadata": {
    "id": "iqG-Pw6pU8HL"
   },
   "outputs": [],
   "source": [
    "from torch.utils.data import TensorDataset, DataLoader, RandomSampler, SequentialSampler\n",
    "\n",
    "#define a batch size\n",
    "batch_size = 32\n",
    "\n",
    "# wrap tensors\n",
    "train_data = TensorDataset(train_seq, train_mask, train_sec, train_y)\n",
    "\n",
    "# sampler for sampling the data during training\n",
    "train_sampler = RandomSampler(train_data)\n",
    "\n",
    "# dataLoader for train set\n",
    "train_dataloader = DataLoader(train_data, sampler=train_sampler, batch_size=batch_size)\n",
    "\n",
    "# wrap tensors\n",
    "val_data = TensorDataset(val_seq, val_mask, val_sec, val_y)\n",
    "\n",
    "# sampler for sampling the data during training\n",
    "val_sampler = SequentialSampler(val_data)\n",
    "\n",
    "# dataLoader for validation set\n",
    "val_dataloader = DataLoader(val_data, sampler = val_sampler, batch_size=batch_size)"
   ]
  },
  {
   "cell_type": "code",
   "execution_count": null,
   "metadata": {},
   "outputs": [],
   "source": []
  },
  {
   "cell_type": "code",
   "execution_count": 37,
   "metadata": {
    "id": "IxXqUSS5W9dv"
   },
   "outputs": [],
   "source": [
    "# freeze all the parameters\n",
    "for param in bert.parameters():\n",
    "    param.requires_grad = False"
   ]
  },
  {
   "cell_type": "code",
   "execution_count": 274,
   "metadata": {
    "id": "ggGgmwXnZmR7"
   },
   "outputs": [],
   "source": [
    "class BERT_Arch(nn.Module):\n",
    "\n",
    "    def __init__(self, bert):\n",
    "\n",
    "        super(BERT_Arch, self).__init__()\n",
    "\n",
    "        self.bert = bert\n",
    "\n",
    "        # dropout layer\n",
    "        self.dropout = nn.Dropout(0.1)\n",
    "\n",
    "        # relu activation function\n",
    "        self.relu =  nn.ReLU()\n",
    "\n",
    "        # dense layer 1\n",
    "        self.fc1 = nn.Linear(768,512)\n",
    "        self.relu =  nn.ReLU()\n",
    "        # dense layer 2 (Output layer)\n",
    "        self.fc2 = nn.Linear(512,3)\n",
    "        self.fc3 = nn.Linear(4,3)\n",
    "        \n",
    "        self.softmax = nn.LogSoftmax(dim=1)\n",
    "\n",
    "    #define the forward pass\n",
    "    def forward(self, sent_id, mask, sec):\n",
    "\n",
    "        #pass the inputs to the model\n",
    "        _, cls_hs = self.bert(sent_id, attention_mask=mask, return_dict=False)\n",
    "        \n",
    "        x = self.fc1(cls_hs)\n",
    "\n",
    "        x = self.relu(x)\n",
    "\n",
    "        x = self.dropout(x)\n",
    "\n",
    "        # output layer\n",
    "        x = self.fc2(x)\n",
    "        \n",
    "        x = torch.cat((x, sec.float().view(-1, 1)), 1)\n",
    "        \n",
    "        x = self.fc3(x)\n",
    "        \n",
    "        # apply softmax activation\n",
    "        x = self.softmax(x)\n",
    "        return x"
   ]
  },
  {
   "cell_type": "code",
   "execution_count": 275,
   "metadata": {
    "colab": {
     "base_uri": "https://localhost:8080/",
     "height": 321
    },
    "id": "d43SNlY5l2jN",
    "outputId": "d0582625-1f27-4236-b172-99821e3ca34f"
   },
   "outputs": [],
   "source": [
    "# pass the pre-trained BERT to our define architecture\n",
    "model = BERT_Arch(bert)\n",
    "\n",
    "# push the model to GPU\n",
    "model = model.to(device)"
   ]
  },
  {
   "cell_type": "code",
   "execution_count": null,
   "metadata": {},
   "outputs": [],
   "source": []
  },
  {
   "cell_type": "code",
   "execution_count": 276,
   "metadata": {
    "colab": {
     "base_uri": "https://localhost:8080/"
    },
    "id": "58SOhS9el5ZL",
    "outputId": "c60a5507-f6e5-4cef-df2d-347d7f91c3a5"
   },
   "outputs": [],
   "source": [
    "# optimizer from hugging face transformers\n",
    "from torch.optim import AdamW\n",
    "\n",
    "# define the optimizer\n",
    "optimizer = AdamW(model.parameters(), lr = 1e-3)"
   ]
  },
  {
   "cell_type": "code",
   "execution_count": 277,
   "metadata": {
    "id": "64JLX7DGmJKI"
   },
   "outputs": [
    {
     "name": "stdout",
     "output_type": "stream",
     "text": [
      "[0.56769972 1.19776228 2.47760745]\n"
     ]
    }
   ],
   "source": [
    "from sklearn.utils.class_weight import compute_class_weight\n",
    "\n",
    "#compute the class weights\n",
    "class_wts = compute_class_weight(class_weight='balanced', classes=np.unique(train_labels), y=train_labels)\n",
    "\n",
    "print(class_wts)"
   ]
  },
  {
   "cell_type": "code",
   "execution_count": 285,
   "metadata": {},
   "outputs": [],
   "source": [
    "# convert class weights to tensor\n",
    "weights= torch.tensor(class_wts,dtype=torch.float)\n",
    "weights = weights.to(device)\n",
    "\n",
    "# loss function\n",
    "cross_entropy  = nn.NLLLoss(weight=weights) \n",
    "\n",
    "# number of training epochs\n",
    "epochs = 10"
   ]
  },
  {
   "cell_type": "code",
   "execution_count": 279,
   "metadata": {},
   "outputs": [],
   "source": [
    "# function to train the model\n",
    "def train():\n",
    "  \n",
    "  model.train()\n",
    "\n",
    "  total_loss, total_accuracy = 0, 0\n",
    "  \n",
    "  # empty list to save model predictions\n",
    "  total_preds=[]\n",
    "  \n",
    "  # iterate over batches\n",
    "  for step,batch in enumerate(train_dataloader):\n",
    "    \n",
    "    # progress update after every 50 batches.\n",
    "    if step % 50 == 0 and not step == 0:\n",
    "      print('  Batch {:>5,}  of  {:>5,}.'.format(step, len(train_dataloader)))\n",
    "\n",
    "    # push the batch to gpu\n",
    "    batch = [r.to(device) for r in batch]\n",
    "\n",
    "    sent_id, mask, sec, labels = batch\n",
    "    \n",
    "    # clear previously calculated gradients \n",
    "    model.zero_grad()        \n",
    "    \n",
    "    # get model predictions for the current batch\n",
    "    preds = model(sent_id, mask, sec)\n",
    "\n",
    "    # compute the loss between actual and predicted values\n",
    "    loss = cross_entropy(preds, labels)\n",
    "\n",
    "    # add on to the total loss\n",
    "    total_loss = total_loss + loss.item()\n",
    "\n",
    "    # backward pass to calculate the gradients\n",
    "    loss.backward()\n",
    "\n",
    "    # clip the the gradients to 1.0. It helps in preventing the exploding gradient problem\n",
    "    torch.nn.utils.clip_grad_norm_(model.parameters(), 1.0)\n",
    "\n",
    "    # update parameters\n",
    "    optimizer.step()\n",
    "\n",
    "    # model predictions are stored on GPU. So, push it to CPU\n",
    "    preds=preds.detach().cpu().numpy()\n",
    "\n",
    "    # append the model predictions\n",
    "    total_preds.append(preds)\n",
    "\n",
    "  # compute the training loss of the epoch\n",
    "  avg_loss = total_loss / len(train_dataloader)\n",
    "  \n",
    "  # predictions are in the form of (no. of batches, size of batch, no. of classes).\n",
    "  # reshape the predictions in form of (number of samples, no. of classes)\n",
    "  total_preds = np.concatenate(total_preds, axis=0)\n",
    "\n",
    "  #returns the loss and predictions\n",
    "  return avg_loss, total_preds"
   ]
  },
  {
   "cell_type": "code",
   "execution_count": 282,
   "metadata": {},
   "outputs": [],
   "source": [
    "# function for evaluating the model\n",
    "def evaluate():\n",
    "  \n",
    "  print(\"\\nEvaluating...\")\n",
    "  \n",
    "  # deactivate dropout layers\n",
    "  model.eval()\n",
    "\n",
    "  total_loss, total_accuracy = 0, 0\n",
    "  \n",
    "  # empty list to save the model predictions\n",
    "  total_preds = []\n",
    "\n",
    "  # iterate over batches\n",
    "  for step,batch in enumerate(val_dataloader):\n",
    "    \n",
    "    # Progress update every 50 batches.\n",
    "    if step % 50 == 0 and not step == 0:\n",
    "      \n",
    "      # Calculate elapsed time in minutes.\n",
    "      elapsed = format_time(time.time() - t0)\n",
    "            \n",
    "      # Report progress.\n",
    "      print('  Batch {:>5,}  of  {:>5,}.'.format(step, len(val_dataloader)))\n",
    "\n",
    "    # push the batch to gpu\n",
    "    batch = [t.to(device) for t in batch]\n",
    "\n",
    "    sent_id, mask, sec, labels = batch\n",
    "\n",
    "    # deactivate autograd\n",
    "    with torch.no_grad():\n",
    "      \n",
    "      # model predictions\n",
    "      preds = model(sent_id, mask, sec)\n",
    "\n",
    "      # compute the validation loss between actual and predicted values\n",
    "      loss = cross_entropy(preds,labels)\n",
    "\n",
    "      total_loss = total_loss + loss.item()\n",
    "\n",
    "      preds = preds.detach().cpu().numpy()\n",
    "\n",
    "      total_preds.append(preds)\n",
    "\n",
    "  # compute the validation loss of the epoch\n",
    "  avg_loss = total_loss / len(val_dataloader) \n",
    "\n",
    "  # reshape the predictions in form of (number of samples, no. of classes)\n",
    "  total_preds  = np.concatenate(total_preds, axis=0)\n",
    "\n",
    "  return avg_loss, total_preds"
   ]
  },
  {
   "cell_type": "code",
   "execution_count": 283,
   "metadata": {},
   "outputs": [
    {
     "name": "stdout",
     "output_type": "stream",
     "text": [
      "\n",
      " Epoch 1 / 20\n",
      "  Batch    50  of    258.\n",
      "  Batch   100  of    258.\n",
      "  Batch   150  of    258.\n",
      "  Batch   200  of    258.\n",
      "  Batch   250  of    258.\n",
      "\n",
      "Evaluating...\n",
      "\n",
      "Training Loss: 1.099\n",
      "Validation Loss: 1.107\n",
      "\n",
      " Epoch 2 / 20\n",
      "  Batch    50  of    258.\n",
      "  Batch   100  of    258.\n",
      "  Batch   150  of    258.\n",
      "  Batch   200  of    258.\n",
      "  Batch   250  of    258.\n",
      "\n",
      "Evaluating...\n",
      "\n",
      "Training Loss: 1.099\n",
      "Validation Loss: 1.098\n",
      "\n",
      " Epoch 3 / 20\n",
      "  Batch    50  of    258.\n",
      "  Batch   100  of    258.\n",
      "  Batch   150  of    258.\n",
      "  Batch   200  of    258.\n",
      "  Batch   250  of    258.\n",
      "\n",
      "Evaluating...\n",
      "\n",
      "Training Loss: 1.097\n",
      "Validation Loss: 1.110\n",
      "\n",
      " Epoch 4 / 20\n",
      "  Batch    50  of    258.\n",
      "  Batch   100  of    258.\n",
      "  Batch   150  of    258.\n",
      "  Batch   200  of    258.\n",
      "  Batch   250  of    258.\n",
      "\n",
      "Evaluating...\n",
      "\n",
      "Training Loss: 1.098\n",
      "Validation Loss: 1.094\n",
      "\n",
      " Epoch 5 / 20\n",
      "  Batch    50  of    258.\n",
      "  Batch   100  of    258.\n",
      "  Batch   150  of    258.\n",
      "  Batch   200  of    258.\n",
      "  Batch   250  of    258.\n",
      "\n",
      "Evaluating...\n",
      "\n",
      "Training Loss: 1.098\n",
      "Validation Loss: 1.095\n",
      "\n",
      " Epoch 6 / 20\n",
      "  Batch    50  of    258.\n",
      "  Batch   100  of    258.\n",
      "  Batch   150  of    258.\n",
      "  Batch   200  of    258.\n",
      "  Batch   250  of    258.\n",
      "\n",
      "Evaluating...\n",
      "\n",
      "Training Loss: 1.097\n",
      "Validation Loss: 1.093\n",
      "\n",
      " Epoch 7 / 20\n",
      "  Batch    50  of    258.\n",
      "  Batch   100  of    258.\n",
      "  Batch   150  of    258.\n",
      "  Batch   200  of    258.\n",
      "  Batch   250  of    258.\n",
      "\n",
      "Evaluating...\n",
      "\n",
      "Training Loss: 1.097\n",
      "Validation Loss: 1.096\n",
      "\n",
      " Epoch 8 / 20\n",
      "  Batch    50  of    258.\n",
      "  Batch   100  of    258.\n",
      "  Batch   150  of    258.\n",
      "  Batch   200  of    258.\n",
      "  Batch   250  of    258.\n",
      "\n",
      "Evaluating...\n",
      "\n",
      "Training Loss: 1.097\n",
      "Validation Loss: 1.095\n",
      "\n",
      " Epoch 9 / 20\n",
      "  Batch    50  of    258.\n",
      "  Batch   100  of    258.\n",
      "  Batch   150  of    258.\n",
      "  Batch   200  of    258.\n",
      "  Batch   250  of    258.\n",
      "\n",
      "Evaluating...\n",
      "\n",
      "Training Loss: 1.098\n",
      "Validation Loss: 1.092\n",
      "\n",
      " Epoch 10 / 20\n",
      "  Batch    50  of    258.\n",
      "  Batch   100  of    258.\n",
      "  Batch   150  of    258.\n",
      "  Batch   200  of    258.\n",
      "  Batch   250  of    258.\n",
      "\n",
      "Evaluating...\n",
      "\n",
      "Training Loss: 1.097\n",
      "Validation Loss: 1.096\n",
      "\n",
      " Epoch 11 / 20\n",
      "  Batch    50  of    258.\n",
      "  Batch   100  of    258.\n",
      "  Batch   150  of    258.\n",
      "  Batch   200  of    258.\n",
      "  Batch   250  of    258.\n",
      "\n",
      "Evaluating...\n",
      "\n",
      "Training Loss: 1.098\n",
      "Validation Loss: 1.098\n",
      "\n",
      " Epoch 12 / 20\n",
      "  Batch    50  of    258.\n",
      "  Batch   100  of    258.\n",
      "  Batch   150  of    258.\n",
      "  Batch   200  of    258.\n",
      "  Batch   250  of    258.\n",
      "\n",
      "Evaluating...\n",
      "\n",
      "Training Loss: 1.095\n",
      "Validation Loss: 1.104\n",
      "\n",
      " Epoch 13 / 20\n",
      "  Batch    50  of    258.\n",
      "  Batch   100  of    258.\n",
      "  Batch   150  of    258.\n",
      "  Batch   200  of    258.\n",
      "  Batch   250  of    258.\n",
      "\n",
      "Evaluating...\n",
      "\n",
      "Training Loss: 1.096\n",
      "Validation Loss: 1.101\n",
      "\n",
      " Epoch 14 / 20\n",
      "  Batch    50  of    258.\n",
      "  Batch   100  of    258.\n",
      "  Batch   150  of    258.\n",
      "  Batch   200  of    258.\n",
      "  Batch   250  of    258.\n",
      "\n",
      "Evaluating...\n",
      "\n",
      "Training Loss: 1.096\n",
      "Validation Loss: 1.098\n",
      "\n",
      " Epoch 15 / 20\n",
      "  Batch    50  of    258.\n",
      "  Batch   100  of    258.\n",
      "  Batch   150  of    258.\n",
      "  Batch   200  of    258.\n",
      "  Batch   250  of    258.\n",
      "\n",
      "Evaluating...\n",
      "\n",
      "Training Loss: 1.095\n",
      "Validation Loss: 1.096\n",
      "\n",
      " Epoch 16 / 20\n",
      "  Batch    50  of    258.\n",
      "  Batch   100  of    258.\n",
      "  Batch   150  of    258.\n",
      "  Batch   200  of    258.\n",
      "  Batch   250  of    258.\n",
      "\n",
      "Evaluating...\n",
      "\n",
      "Training Loss: 1.095\n",
      "Validation Loss: 1.098\n",
      "\n",
      " Epoch 17 / 20\n",
      "  Batch    50  of    258.\n",
      "  Batch   100  of    258.\n",
      "  Batch   150  of    258.\n",
      "  Batch   200  of    258.\n",
      "  Batch   250  of    258.\n",
      "\n",
      "Evaluating...\n",
      "\n",
      "Training Loss: 1.095\n",
      "Validation Loss: 1.099\n",
      "\n",
      " Epoch 18 / 20\n",
      "  Batch    50  of    258.\n",
      "  Batch   100  of    258.\n",
      "  Batch   150  of    258.\n",
      "  Batch   200  of    258.\n",
      "  Batch   250  of    258.\n",
      "\n",
      "Evaluating...\n",
      "\n",
      "Training Loss: 1.095\n",
      "Validation Loss: 1.102\n",
      "\n",
      " Epoch 19 / 20\n",
      "  Batch    50  of    258.\n",
      "  Batch   100  of    258.\n",
      "  Batch   150  of    258.\n",
      "  Batch   200  of    258.\n",
      "  Batch   250  of    258.\n",
      "\n",
      "Evaluating...\n",
      "\n",
      "Training Loss: 1.096\n",
      "Validation Loss: 1.100\n",
      "\n",
      " Epoch 20 / 20\n",
      "  Batch    50  of    258.\n",
      "  Batch   100  of    258.\n",
      "  Batch   150  of    258.\n",
      "  Batch   200  of    258.\n",
      "  Batch   250  of    258.\n",
      "\n",
      "Evaluating...\n",
      "\n",
      "Training Loss: 1.095\n",
      "Validation Loss: 1.094\n"
     ]
    }
   ],
   "source": [
    "# set initial loss to infinite\n",
    "best_valid_loss = float('inf')\n",
    "\n",
    "# empty lists to store training and validation loss of each epoch\n",
    "train_losses=[]\n",
    "valid_losses=[]\n",
    "\n",
    "#for each epoch\n",
    "for epoch in range(epochs):\n",
    "     \n",
    "    print('\\n Epoch {:} / {:}'.format(epoch + 1, epochs))\n",
    "    \n",
    "    #train model\n",
    "    train_loss, _ = train()\n",
    "    \n",
    "    #evaluate model\n",
    "    valid_loss, _ = evaluate()\n",
    "    \n",
    "    #save the best model\n",
    "    if valid_loss < best_valid_loss:\n",
    "        best_valid_loss = valid_loss\n",
    "        torch.save(model.state_dict(), 'saved_weights.pt')\n",
    "    \n",
    "    # append training and validation loss\n",
    "    train_losses.append(train_loss)\n",
    "    valid_losses.append(valid_loss)\n",
    "    \n",
    "    print(f'\\nTraining Loss: {train_loss:.3f}')\n",
    "    print(f'Validation Loss: {valid_loss:.3f}')"
   ]
  },
  {
   "cell_type": "code",
   "execution_count": 284,
   "metadata": {},
   "outputs": [
    {
     "data": {
      "text/plain": [
       "<All keys matched successfully>"
      ]
     },
     "execution_count": 284,
     "metadata": {},
     "output_type": "execute_result"
    }
   ],
   "source": [
    "path = 'saved_weights.pt'\n",
    "model.load_state_dict(torch.load(path))"
   ]
  },
  {
   "cell_type": "code",
   "execution_count": 286,
   "metadata": {},
   "outputs": [],
   "source": [
    "# get predictions for test data\n",
    "with torch.no_grad():\n",
    "  preds = model(test_seq.to(device), test_mask.to(device), test_sec.to(device))\n",
    "  preds = preds.detach().cpu().numpy()"
   ]
  },
  {
   "cell_type": "code",
   "execution_count": 287,
   "metadata": {},
   "outputs": [
    {
     "name": "stdout",
     "output_type": "stream",
     "text": [
      "              precision    recall  f1-score   support\n",
      "\n",
      "           0       0.00      0.00      0.00       498\n",
      "           1       0.42      0.70      0.52       302\n",
      "           2       0.17      0.56      0.26       130\n",
      "\n",
      "    accuracy                           0.31       930\n",
      "   macro avg       0.20      0.42      0.26       930\n",
      "weighted avg       0.16      0.31      0.21       930\n",
      "\n"
     ]
    },
    {
     "name": "stderr",
     "output_type": "stream",
     "text": [
      "/environment/miniconda3/lib/python3.10/site-packages/sklearn/metrics/_classification.py:1471: UndefinedMetricWarning: Precision and F-score are ill-defined and being set to 0.0 in labels with no predicted samples. Use `zero_division` parameter to control this behavior.\n",
      "  _warn_prf(average, modifier, msg_start, len(result))\n",
      "/environment/miniconda3/lib/python3.10/site-packages/sklearn/metrics/_classification.py:1471: UndefinedMetricWarning: Precision and F-score are ill-defined and being set to 0.0 in labels with no predicted samples. Use `zero_division` parameter to control this behavior.\n",
      "  _warn_prf(average, modifier, msg_start, len(result))\n",
      "/environment/miniconda3/lib/python3.10/site-packages/sklearn/metrics/_classification.py:1471: UndefinedMetricWarning: Precision and F-score are ill-defined and being set to 0.0 in labels with no predicted samples. Use `zero_division` parameter to control this behavior.\n",
      "  _warn_prf(average, modifier, msg_start, len(result))\n"
     ]
    }
   ],
   "source": [
    "# model's performance\n",
    "preds = np.argmax(preds, axis = 1)\n",
    "print(classification_report(test_y, preds))"
   ]
  },
  {
   "cell_type": "code",
   "execution_count": 288,
   "metadata": {},
   "outputs": [
    {
     "data": {
      "text/html": [
       "<div>\n",
       "<style scoped>\n",
       "    .dataframe tbody tr th:only-of-type {\n",
       "        vertical-align: middle;\n",
       "    }\n",
       "\n",
       "    .dataframe tbody tr th {\n",
       "        vertical-align: top;\n",
       "    }\n",
       "\n",
       "    .dataframe thead th {\n",
       "        text-align: right;\n",
       "    }\n",
       "</style>\n",
       "<table border=\"1\" class=\"dataframe\">\n",
       "  <thead>\n",
       "    <tr style=\"text-align: right;\">\n",
       "      <th>col_0</th>\n",
       "      <th>1</th>\n",
       "      <th>2</th>\n",
       "    </tr>\n",
       "    <tr>\n",
       "      <th>row_0</th>\n",
       "      <th></th>\n",
       "      <th></th>\n",
       "    </tr>\n",
       "  </thead>\n",
       "  <tbody>\n",
       "    <tr>\n",
       "      <th>0</th>\n",
       "      <td>240</td>\n",
       "      <td>258</td>\n",
       "    </tr>\n",
       "    <tr>\n",
       "      <th>1</th>\n",
       "      <td>212</td>\n",
       "      <td>90</td>\n",
       "    </tr>\n",
       "    <tr>\n",
       "      <th>2</th>\n",
       "      <td>57</td>\n",
       "      <td>73</td>\n",
       "    </tr>\n",
       "  </tbody>\n",
       "</table>\n",
       "</div>"
      ],
      "text/plain": [
       "col_0    1    2\n",
       "row_0          \n",
       "0      240  258\n",
       "1      212   90\n",
       "2       57   73"
      ]
     },
     "execution_count": 288,
     "metadata": {},
     "output_type": "execute_result"
    }
   ],
   "source": [
    "# confusion matrix\n",
    "pd.crosstab(test_y, preds)"
   ]
  },
  {
   "cell_type": "code",
   "execution_count": null,
   "metadata": {},
   "outputs": [],
   "source": []
  }
 ],
 "metadata": {
  "accelerator": "TPU",
  "colab": {
   "provenance": []
  },
  "kernelspec": {
   "display_name": "Python 3 (ipykernel)",
   "language": "python",
   "name": "python3"
  },
  "language_info": {
   "codemirror_mode": {
    "name": "ipython",
    "version": 3
   },
   "file_extension": ".py",
   "mimetype": "text/x-python",
   "name": "python",
   "nbconvert_exporter": "python",
   "pygments_lexer": "ipython3",
   "version": "3.10.12"
  },
  "widgets": {
   "application/vnd.jupyter.widget-state+json": {
    "32997f6d9f474fd39a54c188b85320ee": {
     "model_module": "@jupyter-widgets/controls",
     "model_module_version": "1.5.0",
     "model_name": "ProgressStyleModel",
     "state": {
      "_model_module": "@jupyter-widgets/controls",
      "_model_module_version": "1.5.0",
      "_model_name": "ProgressStyleModel",
      "_view_count": null,
      "_view_module": "@jupyter-widgets/base",
      "_view_module_version": "1.2.0",
      "_view_name": "StyleView",
      "bar_color": null,
      "description_width": ""
     }
    },
    "40f3597504c747f69f99f05016f97f5d": {
     "model_module": "@jupyter-widgets/controls",
     "model_module_version": "1.5.0",
     "model_name": "HTMLModel",
     "state": {
      "_dom_classes": [],
      "_model_module": "@jupyter-widgets/controls",
      "_model_module_version": "1.5.0",
      "_model_name": "HTMLModel",
      "_view_count": null,
      "_view_module": "@jupyter-widgets/controls",
      "_view_module_version": "1.5.0",
      "_view_name": "HTMLView",
      "description": "",
      "description_tooltip": null,
      "layout": "IPY_MODEL_829a467fafb84c6cb90ec8f330dbe549",
      "placeholder": "​",
      "style": "IPY_MODEL_72bb1a4ad4f04b92a34728045e1e0c78",
      "value": " 440M/440M [00:07&lt;00:00, 49.2MB/s]"
     }
    },
    "6f76193086db4380bf92369b9143b4fa": {
     "model_module": "@jupyter-widgets/controls",
     "model_module_version": "1.5.0",
     "model_name": "HTMLModel",
     "state": {
      "_dom_classes": [],
      "_model_module": "@jupyter-widgets/controls",
      "_model_module_version": "1.5.0",
      "_model_name": "HTMLModel",
      "_view_count": null,
      "_view_module": "@jupyter-widgets/controls",
      "_view_module_version": "1.5.0",
      "_view_name": "HTMLView",
      "description": "",
      "description_tooltip": null,
      "layout": "IPY_MODEL_a0d3efcb9afe4618bae90deea51e62da",
      "placeholder": "​",
      "style": "IPY_MODEL_b7aa6f8c343c4d33a4d8782e979a2abb",
      "value": "model.safetensors: 100%"
     }
    },
    "72bb1a4ad4f04b92a34728045e1e0c78": {
     "model_module": "@jupyter-widgets/controls",
     "model_module_version": "1.5.0",
     "model_name": "DescriptionStyleModel",
     "state": {
      "_model_module": "@jupyter-widgets/controls",
      "_model_module_version": "1.5.0",
      "_model_name": "DescriptionStyleModel",
      "_view_count": null,
      "_view_module": "@jupyter-widgets/base",
      "_view_module_version": "1.2.0",
      "_view_name": "StyleView",
      "description_width": ""
     }
    },
    "829a467fafb84c6cb90ec8f330dbe549": {
     "model_module": "@jupyter-widgets/base",
     "model_module_version": "1.2.0",
     "model_name": "LayoutModel",
     "state": {
      "_model_module": "@jupyter-widgets/base",
      "_model_module_version": "1.2.0",
      "_model_name": "LayoutModel",
      "_view_count": null,
      "_view_module": "@jupyter-widgets/base",
      "_view_module_version": "1.2.0",
      "_view_name": "LayoutView",
      "align_content": null,
      "align_items": null,
      "align_self": null,
      "border": null,
      "bottom": null,
      "display": null,
      "flex": null,
      "flex_flow": null,
      "grid_area": null,
      "grid_auto_columns": null,
      "grid_auto_flow": null,
      "grid_auto_rows": null,
      "grid_column": null,
      "grid_gap": null,
      "grid_row": null,
      "grid_template_areas": null,
      "grid_template_columns": null,
      "grid_template_rows": null,
      "height": null,
      "justify_content": null,
      "justify_items": null,
      "left": null,
      "margin": null,
      "max_height": null,
      "max_width": null,
      "min_height": null,
      "min_width": null,
      "object_fit": null,
      "object_position": null,
      "order": null,
      "overflow": null,
      "overflow_x": null,
      "overflow_y": null,
      "padding": null,
      "right": null,
      "top": null,
      "visibility": null,
      "width": null
     }
    },
    "8613b4d5606349e8a5b5371d7b75a140": {
     "model_module": "@jupyter-widgets/controls",
     "model_module_version": "1.5.0",
     "model_name": "FloatProgressModel",
     "state": {
      "_dom_classes": [],
      "_model_module": "@jupyter-widgets/controls",
      "_model_module_version": "1.5.0",
      "_model_name": "FloatProgressModel",
      "_view_count": null,
      "_view_module": "@jupyter-widgets/controls",
      "_view_module_version": "1.5.0",
      "_view_name": "ProgressView",
      "bar_style": "success",
      "description": "",
      "description_tooltip": null,
      "layout": "IPY_MODEL_bbb865f77c59461f98a83344600faf21",
      "max": 440449768,
      "min": 0,
      "orientation": "horizontal",
      "style": "IPY_MODEL_32997f6d9f474fd39a54c188b85320ee",
      "value": 440449768
     }
    },
    "96619d543ec74702b754f126e5f9dd31": {
     "model_module": "@jupyter-widgets/controls",
     "model_module_version": "1.5.0",
     "model_name": "HBoxModel",
     "state": {
      "_dom_classes": [],
      "_model_module": "@jupyter-widgets/controls",
      "_model_module_version": "1.5.0",
      "_model_name": "HBoxModel",
      "_view_count": null,
      "_view_module": "@jupyter-widgets/controls",
      "_view_module_version": "1.5.0",
      "_view_name": "HBoxView",
      "box_style": "",
      "children": [
       "IPY_MODEL_6f76193086db4380bf92369b9143b4fa",
       "IPY_MODEL_8613b4d5606349e8a5b5371d7b75a140",
       "IPY_MODEL_40f3597504c747f69f99f05016f97f5d"
      ],
      "layout": "IPY_MODEL_a4c48bdd74cd468782403256374524ff"
     }
    },
    "a0d3efcb9afe4618bae90deea51e62da": {
     "model_module": "@jupyter-widgets/base",
     "model_module_version": "1.2.0",
     "model_name": "LayoutModel",
     "state": {
      "_model_module": "@jupyter-widgets/base",
      "_model_module_version": "1.2.0",
      "_model_name": "LayoutModel",
      "_view_count": null,
      "_view_module": "@jupyter-widgets/base",
      "_view_module_version": "1.2.0",
      "_view_name": "LayoutView",
      "align_content": null,
      "align_items": null,
      "align_self": null,
      "border": null,
      "bottom": null,
      "display": null,
      "flex": null,
      "flex_flow": null,
      "grid_area": null,
      "grid_auto_columns": null,
      "grid_auto_flow": null,
      "grid_auto_rows": null,
      "grid_column": null,
      "grid_gap": null,
      "grid_row": null,
      "grid_template_areas": null,
      "grid_template_columns": null,
      "grid_template_rows": null,
      "height": null,
      "justify_content": null,
      "justify_items": null,
      "left": null,
      "margin": null,
      "max_height": null,
      "max_width": null,
      "min_height": null,
      "min_width": null,
      "object_fit": null,
      "object_position": null,
      "order": null,
      "overflow": null,
      "overflow_x": null,
      "overflow_y": null,
      "padding": null,
      "right": null,
      "top": null,
      "visibility": null,
      "width": null
     }
    },
    "a4c48bdd74cd468782403256374524ff": {
     "model_module": "@jupyter-widgets/base",
     "model_module_version": "1.2.0",
     "model_name": "LayoutModel",
     "state": {
      "_model_module": "@jupyter-widgets/base",
      "_model_module_version": "1.2.0",
      "_model_name": "LayoutModel",
      "_view_count": null,
      "_view_module": "@jupyter-widgets/base",
      "_view_module_version": "1.2.0",
      "_view_name": "LayoutView",
      "align_content": null,
      "align_items": null,
      "align_self": null,
      "border": null,
      "bottom": null,
      "display": null,
      "flex": null,
      "flex_flow": null,
      "grid_area": null,
      "grid_auto_columns": null,
      "grid_auto_flow": null,
      "grid_auto_rows": null,
      "grid_column": null,
      "grid_gap": null,
      "grid_row": null,
      "grid_template_areas": null,
      "grid_template_columns": null,
      "grid_template_rows": null,
      "height": null,
      "justify_content": null,
      "justify_items": null,
      "left": null,
      "margin": null,
      "max_height": null,
      "max_width": null,
      "min_height": null,
      "min_width": null,
      "object_fit": null,
      "object_position": null,
      "order": null,
      "overflow": null,
      "overflow_x": null,
      "overflow_y": null,
      "padding": null,
      "right": null,
      "top": null,
      "visibility": null,
      "width": null
     }
    },
    "b7aa6f8c343c4d33a4d8782e979a2abb": {
     "model_module": "@jupyter-widgets/controls",
     "model_module_version": "1.5.0",
     "model_name": "DescriptionStyleModel",
     "state": {
      "_model_module": "@jupyter-widgets/controls",
      "_model_module_version": "1.5.0",
      "_model_name": "DescriptionStyleModel",
      "_view_count": null,
      "_view_module": "@jupyter-widgets/base",
      "_view_module_version": "1.2.0",
      "_view_name": "StyleView",
      "description_width": ""
     }
    },
    "bbb865f77c59461f98a83344600faf21": {
     "model_module": "@jupyter-widgets/base",
     "model_module_version": "1.2.0",
     "model_name": "LayoutModel",
     "state": {
      "_model_module": "@jupyter-widgets/base",
      "_model_module_version": "1.2.0",
      "_model_name": "LayoutModel",
      "_view_count": null,
      "_view_module": "@jupyter-widgets/base",
      "_view_module_version": "1.2.0",
      "_view_name": "LayoutView",
      "align_content": null,
      "align_items": null,
      "align_self": null,
      "border": null,
      "bottom": null,
      "display": null,
      "flex": null,
      "flex_flow": null,
      "grid_area": null,
      "grid_auto_columns": null,
      "grid_auto_flow": null,
      "grid_auto_rows": null,
      "grid_column": null,
      "grid_gap": null,
      "grid_row": null,
      "grid_template_areas": null,
      "grid_template_columns": null,
      "grid_template_rows": null,
      "height": null,
      "justify_content": null,
      "justify_items": null,
      "left": null,
      "margin": null,
      "max_height": null,
      "max_width": null,
      "min_height": null,
      "min_width": null,
      "object_fit": null,
      "object_position": null,
      "order": null,
      "overflow": null,
      "overflow_x": null,
      "overflow_y": null,
      "padding": null,
      "right": null,
      "top": null,
      "visibility": null,
      "width": null
     }
    }
   }
  }
 },
 "nbformat": 4,
 "nbformat_minor": 4
}
